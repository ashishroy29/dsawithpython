{
 "cells": [
  {
   "cell_type": "code",
   "execution_count": 6,
   "metadata": {},
   "outputs": [
    {
     "data": {
      "text/plain": [
       "['*****', '*****', '*****', '*****', '*****']"
      ]
     },
     "execution_count": 6,
     "metadata": {},
     "output_type": "execute_result"
    }
   ],
   "source": [
    "## First way\n",
    "def generate_square(n):\n",
    "    list1 = [] # Create empty list\n",
    "    for i in range(n): # loops n times, ex 3 : index 0,1,2\n",
    "        list1.append('*' * n) # First loop -> '*' * 3 = '***', Second loop -> '*' * 3 = '***', this goes on until the loop is completed.\n",
    "    return list1 #returns the list.\n",
    "\n",
    "generate_square(5)"
   ]
  },
  {
   "cell_type": "code",
   "execution_count": 11,
   "metadata": {},
   "outputs": [
    {
     "data": {
      "text/plain": [
       "['*****', '*****', '*****', '*****', '*****']"
      ]
     },
     "execution_count": 11,
     "metadata": {},
     "output_type": "execute_result"
    }
   ],
   "source": [
    "## Second way\n",
    "def generate_square(n):\n",
    "    row = '*' * n #create first row\n",
    "    nxnsquare = [row] * n #put the created string into a list and then multiply by n\n",
    "    return nxnsquare # return the answer.\n",
    "generate_square(5)"
   ]
  },
  {
   "cell_type": "code",
   "execution_count": 2,
   "metadata": {},
   "outputs": [
    {
     "data": {
      "text/plain": [
       "['*****', '*****', '*****', '*****', '*****']"
      ]
     },
     "execution_count": 2,
     "metadata": {},
     "output_type": "execute_result"
    }
   ],
   "source": [
    "## practice\n",
    "def generate_square(n):\n",
    "\n",
    "    lst1 = []\n",
    "    for i in range(n):\n",
    "        lst1.append('*' * n )\n",
    "    return lst1\n",
    "\n",
    "generate_square(5)"
   ]
  },
  {
   "cell_type": "code",
   "execution_count": 1,
   "metadata": {},
   "outputs": [
    {
     "data": {
      "text/plain": [
       "['****', '****', '****', '****']"
      ]
     },
     "execution_count": 1,
     "metadata": {},
     "output_type": "execute_result"
    }
   ],
   "source": [
    "def generate_square(n):\n",
    "\n",
    "    lst1=[]\n",
    "    for i in range(n):\n",
    "        lst1.append('*' * n)\n",
    "    return lst1\n",
    "\n",
    "generate_square(4)"
   ]
  },
  {
   "cell_type": "code",
   "execution_count": null,
   "metadata": {},
   "outputs": [],
   "source": []
  }
 ],
 "metadata": {
  "kernelspec": {
   "display_name": "Python 3",
   "language": "python",
   "name": "python3"
  },
  "language_info": {
   "codemirror_mode": {
    "name": "ipython",
    "version": 3
   },
   "file_extension": ".py",
   "mimetype": "text/x-python",
   "name": "python",
   "nbconvert_exporter": "python",
   "pygments_lexer": "ipython3",
   "version": "3.12.0"
  }
 },
 "nbformat": 4,
 "nbformat_minor": 2
}
