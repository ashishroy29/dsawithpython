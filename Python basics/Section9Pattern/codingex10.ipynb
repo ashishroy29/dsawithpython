{
 "cells": [
  {
   "cell_type": "code",
   "execution_count": 13,
   "metadata": {},
   "outputs": [
    {
     "data": {
      "text/plain": [
       "['    *    ',\n",
       " '   ***   ',\n",
       " '  *****  ',\n",
       " ' ******* ',\n",
       " '*********',\n",
       " ' ******* ',\n",
       " '  *****  ',\n",
       " '   ***   ',\n",
       " '    *    ']"
      ]
     },
     "execution_count": 13,
     "metadata": {},
     "output_type": "execute_result"
    }
   ],
   "source": [
    "def generate_diamond(n):\n",
    "    \"\"\"\n",
    "    Function to return a diamond pattern of '*' of side n as a list of strings.\n",
    "    \n",
    "    Parameters:\n",
    "    n (int): The number of rows for the upper part of the diamond.\n",
    "    \n",
    "    Returns:\n",
    "    list: A list of strings where each string represents a row of the diamond.\n",
    "    \"\"\"\n",
    "    # Your code here\n",
    "    row = []\n",
    "    for i in range(1, n+1):\n",
    "        spaces = ' ' * (n - i)\n",
    "        stars = '*' * (2 * i - 1)\n",
    "        row.append(spaces + stars + spaces)\n",
    "    for i in range(n - 1 , 0 , - 1):\n",
    "        spaces = ' ' * (n - i)\n",
    "        stars = '*' * (2 * i - 1)\n",
    "        row.append(spaces + stars + spaces)\n",
    "    return row\n",
    "\n",
    "generate_diamond(5)"
   ]
  },
  {
   "cell_type": "code",
   "execution_count": 19,
   "metadata": {},
   "outputs": [
    {
     "data": {
      "text/plain": [
       "['    *    ',\n",
       " '   ***   ',\n",
       " '  *****  ',\n",
       " ' ******* ',\n",
       " '*********',\n",
       " ' ******* ',\n",
       " '  *****  ',\n",
       " '   ***   ',\n",
       " '    *    ']"
      ]
     },
     "execution_count": 19,
     "metadata": {},
     "output_type": "execute_result"
    }
   ],
   "source": [
    "def generate_diamond(n):\n",
    "    row = []\n",
    "    for i in range(1 , n+1):\n",
    "        spaces = ' ' * (n - i)\n",
    "        stars = '*' * (2 * i - 1)\n",
    "        row.append(spaces + stars + spaces)\n",
    "    for i in range( n - 1 , 0, -1):\n",
    "        spaces = ' ' * (n - i)\n",
    "        stars = '*' * (2 * i - 1)\n",
    "        row.append(spaces + stars + spaces)\n",
    "    return row \n",
    "\n",
    "generate_diamond(5)"
   ]
  },
  {
   "cell_type": "code",
   "execution_count": null,
   "metadata": {},
   "outputs": [],
   "source": []
  }
 ],
 "metadata": {
  "kernelspec": {
   "display_name": "Python 3",
   "language": "python",
   "name": "python3"
  },
  "language_info": {
   "codemirror_mode": {
    "name": "ipython",
    "version": 3
   },
   "file_extension": ".py",
   "mimetype": "text/x-python",
   "name": "python",
   "nbconvert_exporter": "python",
   "pygments_lexer": "ipython3",
   "version": "3.12.0"
  }
 },
 "nbformat": 4,
 "nbformat_minor": 2
}
