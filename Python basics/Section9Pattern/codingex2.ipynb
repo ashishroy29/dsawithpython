{
 "cells": [
  {
   "cell_type": "code",
   "execution_count": 22,
   "metadata": {},
   "outputs": [
    {
     "data": {
      "text/plain": [
       "['*****', '*   *', '*   *', '*   *', '*****']"
      ]
     },
     "execution_count": 22,
     "metadata": {},
     "output_type": "execute_result"
    }
   ],
   "source": [
    "def generate_hollow_square(n):\n",
    "\n",
    "    ## Handling length 1\n",
    "    if n == 1:\n",
    "        return ['*']\n",
    "    ## Handling length 2\n",
    "    if n == 2:\n",
    "        return ['**','**']\n",
    "\n",
    "    ## Handling the complex loop\n",
    "    lst1 = []\n",
    "    lst1.append('*' * n)\n",
    "\n",
    "    for _ in range(n-2):\n",
    "        lst1.append('*' + ' ' * (n-2) + '*')\n",
    "\n",
    "    lst1.append('*' * n)\n",
    "    return lst1\n",
    "\n",
    "\n",
    "generate_hollow_square(5)"
   ]
  },
  {
   "cell_type": "code",
   "execution_count": 23,
   "metadata": {},
   "outputs": [],
   "source": [
    "# ### learnings:\n",
    "\n",
    "# Incorrect return inside the loop:\n",
    "\n",
    "# The return lst1 is inside the loop, which means it will exit after adding only one middle row, instead of constructing the full square.\n",
    "# Extra border row inside the loop:\n",
    "\n",
    "# In your loop, you are adding lst1.append('*' * n) inside the iteration, which creates an extra filled row after every hollow row."
   ]
  },
  {
   "cell_type": "code",
   "execution_count": 10,
   "metadata": {},
   "outputs": [
    {
     "data": {
      "text/plain": [
       "['******', '*    *', '*    *', '*    *', '*    *', '******']"
      ]
     },
     "execution_count": 10,
     "metadata": {},
     "output_type": "execute_result"
    }
   ],
   "source": [
    "## practice\n",
    "\n",
    "def hollow_square(n):\n",
    "\n",
    "    if n == 1:\n",
    "        return ['*']\n",
    "    \n",
    "    if n == 2:\n",
    "        return ['**', '**']\n",
    "    \n",
    "    lst1 = []\n",
    "\n",
    "    for i in range(n):\n",
    "\n",
    "        lst1.append('*' * n)\n",
    "\n",
    "        for _ in range(n-2):\n",
    "            lst1.append('*'+' '*(n-2)+'*')\n",
    "        \n",
    "        lst1.append('*' * n)\n",
    "\n",
    "        return lst1\n",
    "\n",
    "\n",
    "hollow_square(6)"
   ]
  },
  {
   "cell_type": "code",
   "execution_count": null,
   "metadata": {},
   "outputs": [
    {
     "data": {
      "text/plain": [
       "['****', '*  *', '*  *', '****']"
      ]
     },
     "execution_count": 2,
     "metadata": {},
     "output_type": "execute_result"
    }
   ],
   "source": [
    "# def hollow_square(n):\n",
    "\n",
    "#     if n == 1 :\n",
    "#         return ['*']\n",
    "#     if n == 2 :\n",
    "#         return ['**','**']\n",
    "    \n",
    "#     lst1 = []\n",
    "    \n",
    "#     for i in range(n):\n",
    "#         lst1.append('*' * n)\n",
    "\n",
    "#         for _ in range(n-2): \n",
    "#             lst1.append('*' + ' ' * (n-2) + '*')\n",
    "\n",
    "#         lst1.append('*' * n )\n",
    "\n",
    "#         return lst1\n",
    "    \n",
    "# hollow_square(4)"
   ]
  },
  {
   "cell_type": "code",
   "execution_count": 3,
   "metadata": {},
   "outputs": [
    {
     "name": "stdout",
     "output_type": "stream",
     "text": [
      "['****', '*  *', '*  *', '****']\n",
      "['*****', '*   *', '*   *', '*   *', '*****']\n"
     ]
    }
   ],
   "source": [
    "def hollow_square(n):\n",
    "    if n == 1:\n",
    "        return ['*']\n",
    "    if n == 2:\n",
    "        return ['**', '**']\n",
    "    \n",
    "    lst1 = []\n",
    "    \n",
    "    # First row\n",
    "    lst1.append('*' * n)\n",
    "    \n",
    "    # Middle rows\n",
    "    for _ in range(n - 2):  # Runs only if n > 2\n",
    "        lst1.append('*' + ' ' * (n - 2) + '*')\n",
    "    \n",
    "    # Last row (only if n > 1)\n",
    "    lst1.append('*' * n)\n",
    "    \n",
    "    return lst1\n",
    "\n",
    "# Test cases\n",
    "print(hollow_square(4))  \n",
    "print(hollow_square(5))  \n"
   ]
  },
  {
   "cell_type": "code",
   "execution_count": null,
   "metadata": {},
   "outputs": [],
   "source": []
  }
 ],
 "metadata": {
  "kernelspec": {
   "display_name": "Python 3",
   "language": "python",
   "name": "python3"
  },
  "language_info": {
   "codemirror_mode": {
    "name": "ipython",
    "version": 3
   },
   "file_extension": ".py",
   "mimetype": "text/x-python",
   "name": "python",
   "nbconvert_exporter": "python",
   "pygments_lexer": "ipython3",
   "version": "3.12.0"
  }
 },
 "nbformat": 4,
 "nbformat_minor": 2
}
