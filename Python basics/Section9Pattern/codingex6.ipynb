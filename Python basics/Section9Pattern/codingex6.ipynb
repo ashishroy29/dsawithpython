{
 "cells": [
  {
   "cell_type": "code",
   "execution_count": 2,
   "metadata": {},
   "outputs": [
    {
     "data": {
      "text/plain": [
       "['    *    ', '   ***   ', '  *****  ', ' ******* ', '*********']"
      ]
     },
     "execution_count": 2,
     "metadata": {},
     "output_type": "execute_result"
    }
   ],
   "source": [
    "def generate_pyramid(n):\n",
    "    \"\"\"\n",
    "    Function to return a pyramid pattern of '*' of side n as a list of strings.\n",
    "    \n",
    "    Parameters:\n",
    "    n (int): The number of rows in the pyramid.\n",
    "    \n",
    "    Returns:\n",
    "    list: A list of strings where each string represents a row of the pyramid.\n",
    "    \"\"\"\n",
    "    # Your code here\n",
    "    pyramid  = []\n",
    "\n",
    "    for i in range(n):\n",
    "        spaces = ' ' * (n - i - 1)\n",
    "        stars = '*' * (2 * i + 1)\n",
    "        row = spaces + stars + spaces\n",
    "        pyramid.append(row)\n",
    "    return pyramid\n",
    "\n",
    "generate_pyramid(5)"
   ]
  },
  {
   "cell_type": "code",
   "execution_count": 11,
   "metadata": {},
   "outputs": [
    {
     "data": {
      "text/plain": [
       "['    *    ', '   ***   ', '  *****  ', ' ******* ', '*********']"
      ]
     },
     "execution_count": 11,
     "metadata": {},
     "output_type": "execute_result"
    }
   ],
   "source": [
    "def generate_pyramid(n): ## 5\n",
    "    pyramid = []\n",
    "\n",
    "    for i in range(n):\n",
    "        spaces = ' ' * (n - i - 1) ## this is reducing the spaces\n",
    "        stars = '*' * (2 * i + 1) ## this is increasing the stars\n",
    "        row = (spaces + stars + spaces)\n",
    "        pyramid.append(row)\n",
    "    return pyramid\n",
    "\n",
    "generate_pyramid(5)"
   ]
  },
  {
   "cell_type": "code",
   "execution_count": 8,
   "metadata": {},
   "outputs": [
    {
     "data": {
      "text/plain": [
       "['    *    ', '   ***   ', '  *****  ', ' ******* ', '*********']"
      ]
     },
     "execution_count": 8,
     "metadata": {},
     "output_type": "execute_result"
    }
   ],
   "source": [
    "def generate_pyramid(n):\n",
    "\n",
    "    pyramid = []\n",
    "    for i in range(n):\n",
    "        spaces = ' ' * (n - i - 1)\n",
    "        stars = '*' * (2 * i + 1)\n",
    "        row = spaces + stars + spaces\n",
    "        pyramid.append(row)\n",
    "    return pyramid\n",
    "\n",
    "generate_pyramid(5)"
   ]
  },
  {
   "cell_type": "code",
   "execution_count": null,
   "metadata": {},
   "outputs": [],
   "source": []
  },
  {
   "cell_type": "code",
   "execution_count": null,
   "metadata": {},
   "outputs": [],
   "source": []
  }
 ],
 "metadata": {
  "kernelspec": {
   "display_name": "Python 3",
   "language": "python",
   "name": "python3"
  },
  "language_info": {
   "codemirror_mode": {
    "name": "ipython",
    "version": 3
   },
   "file_extension": ".py",
   "mimetype": "text/x-python",
   "name": "python",
   "nbconvert_exporter": "python",
   "pygments_lexer": "ipython3",
   "version": "3.12.0"
  }
 },
 "nbformat": 4,
 "nbformat_minor": 2
}
