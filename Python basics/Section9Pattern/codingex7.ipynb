{
 "cells": [
  {
   "cell_type": "code",
   "execution_count": 3,
   "metadata": {},
   "outputs": [
    {
     "data": {
      "text/plain": [
       "['*********', ' ******* ', '  *****  ', '   ***   ', '    *    ']"
      ]
     },
     "execution_count": 3,
     "metadata": {},
     "output_type": "execute_result"
    }
   ],
   "source": [
    "def inverse_pyramid(n): #5\n",
    "\n",
    "    inverse = []\n",
    "    for i in range(n,0,-1):\n",
    "        spaces = ' ' * (n-i)\n",
    "        stars = '*' * (2 * i - 1)\n",
    "        row = (spaces + stars + spaces)\n",
    "        inverse.append(row)\n",
    "    return inverse\n",
    "\n",
    "inverse_pyramid(5)"
   ]
  },
  {
   "cell_type": "code",
   "execution_count": 4,
   "metadata": {},
   "outputs": [
    {
     "data": {
      "text/plain": [
       "['*********', ' ******* ', '  *****  ', '   ***   ', '    *    ']"
      ]
     },
     "execution_count": 4,
     "metadata": {},
     "output_type": "execute_result"
    }
   ],
   "source": [
    "def inverse_pyramid(n):\n",
    "\n",
    "    pyramid = []\n",
    "    for i in range(n,0,-1):\n",
    "        spaces = ' ' * (n-i)\n",
    "        stars = '*' * (2 * i - 1)\n",
    "        row = spaces + stars + spaces\n",
    "        pyramid.append(row)\n",
    "    return pyramid\n",
    "\n",
    "inverse_pyramid(5)"
   ]
  },
  {
   "cell_type": "code",
   "execution_count": null,
   "metadata": {},
   "outputs": [],
   "source": []
  }
 ],
 "metadata": {
  "kernelspec": {
   "display_name": "Python 3",
   "language": "python",
   "name": "python3"
  },
  "language_info": {
   "codemirror_mode": {
    "name": "ipython",
    "version": 3
   },
   "file_extension": ".py",
   "mimetype": "text/x-python",
   "name": "python",
   "nbconvert_exporter": "python",
   "pygments_lexer": "ipython3",
   "version": "3.12.0"
  }
 },
 "nbformat": 4,
 "nbformat_minor": 2
}
