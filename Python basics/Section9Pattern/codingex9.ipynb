{
 "cells": [
  {
   "cell_type": "code",
   "execution_count": 13,
   "metadata": {},
   "outputs": [
    {
     "name": "stdout",
     "output_type": "stream",
     "text": [
      "1\n",
      "2 3\n",
      "4 5 6\n",
      "7 8 9 10\n",
      "11 12 13 14 15\n",
      "16 17 18 19 20 21\n"
     ]
    }
   ],
   "source": [
    "def floyds_triangle(n):\n",
    "    \"\"\"\n",
    "    Function to return the first n rows of Floyd's Triangle.\n",
    "    \n",
    "    Parameters:\n",
    "    n (int): The number of rows in Floyd's Triangle.\n",
    "    \n",
    "    Returns:\n",
    "    list: A list of strings where each string represents a row in Floyd's Triangle.\n",
    "    \"\"\"\n",
    "    triangle = []\n",
    "    num = 1  # Starting number\n",
    "    \n",
    "    for i in range(1, n + 1):  # Loop for rows (1 to n)\n",
    "        row = []\n",
    "        for j in range(i):  # Loop for numbers in a row (i elements)\n",
    "            row.append(str(num))\n",
    "            num += 1  # Increment number for next placement\n",
    "        triangle.append(\" \".join(row))  # Convert row to a space-separated string\n",
    "    \n",
    "    return triangle\n",
    "\n",
    "# Example usage\n",
    "n = int(input(\"Enter the number of rows: \"))\n",
    "result = floyds_triangle(n)\n",
    "for row in result:\n",
    "    print(row)\n"
   ]
  },
  {
   "cell_type": "code",
   "execution_count": null,
   "metadata": {},
   "outputs": [
    {
     "data": {
      "text/plain": [
       "[5]"
      ]
     },
     "execution_count": 5,
     "metadata": {},
     "output_type": "execute_result"
    }
   ],
   "source": [
    "def floyds_triangle(n):\n",
    "    \"\"\"\n",
    "    Function to return the first n rows of Floyd's Triangle.\n",
    "    \n",
    "    Parameters:\n",
    "    n (int): The number of rows in Floyd's Triangle.\n",
    "    \n",
    "    Returns:\n",
    "    list: A list of strings where each string represents a row in Floyd's Triangle.\n",
    "    \"\"\"\n",
    "    for i in range(1, n+1):\n",
    "        row = []\n",
    "        row.append(i)\n",
    "        return row\n",
    "    \n",
    "floyds_triangle(5)"
   ]
  },
  {
   "cell_type": "code",
   "execution_count": 12,
   "metadata": {},
   "outputs": [
    {
     "data": {
      "text/plain": [
       "['1', '2 3', '4 5 6', '7 8 9 10', '11 12 13 14 15']"
      ]
     },
     "execution_count": 12,
     "metadata": {},
     "output_type": "execute_result"
    }
   ],
   "source": [
    "def floyds_triangle(n):\n",
    "\n",
    "    triangle = []\n",
    "    num = 1\n",
    "\n",
    "    for i in range(1, n + 1):  # Loop for rows (1 to n)\n",
    "            row = []\n",
    "            for j in range(i):  # Loop for numbers in a row (i elements)\n",
    "                row.append(str(num))\n",
    "                num += 1  # Increment number for next placement\n",
    "            triangle.append(\" \".join(row))  # Convert row to a space-separated string\n",
    "    return triangle\n",
    "\n",
    "floyds_triangle(5)"
   ]
  },
  {
   "cell_type": "code",
   "execution_count": null,
   "metadata": {},
   "outputs": [
    {
     "data": {
      "text/plain": [
       "['1', '2 3', '4 5 6', '7 8 9 10', '11 12 13 14 15']"
      ]
     },
     "execution_count": 15,
     "metadata": {},
     "output_type": "execute_result"
    }
   ],
   "source": [
    "def floyds_triangle(n):\n",
    "    \n",
    "    triangle = []\n",
    "    num = 1\n",
    "\n",
    "    for i in range(1, n+1):\n",
    "        row = []\n",
    "        for _ in range(i):\n",
    "            row.append(str(num)) #here we have added num\n",
    "            num += 1\n",
    "        triangle.append(' '.join(row))\n",
    "\n",
    "    return triangle\n",
    "\n",
    "\n",
    "floyds_triangle(5)"
   ]
  },
  {
   "cell_type": "code",
   "execution_count": null,
   "metadata": {},
   "outputs": [
    {
     "data": {
      "text/plain": [
       "['1', '2 2', '3 3 3', '4 4 4 4', '5 5 5 5 5']"
      ]
     },
     "execution_count": 18,
     "metadata": {},
     "output_type": "execute_result"
    }
   ],
   "source": [
    "def floyds_triangle(n):\n",
    "    \n",
    "    triangle = []\n",
    "    num = 1\n",
    "\n",
    "    for i in range(1, n+1):\n",
    "        row = []\n",
    "        for _ in range(i):\n",
    "            row.append(str(i)) #here same place we have added i and ignored num (so this is the difference)\n",
    "            num += 1\n",
    "        triangle.append(' '.join(row))\n",
    "\n",
    "    return triangle\n",
    "\n",
    "\n",
    "floyds_triangle(5)"
   ]
  },
  {
   "cell_type": "code",
   "execution_count": null,
   "metadata": {},
   "outputs": [],
   "source": []
  }
 ],
 "metadata": {
  "kernelspec": {
   "display_name": "Python 3",
   "language": "python",
   "name": "python3"
  },
  "language_info": {
   "codemirror_mode": {
    "name": "ipython",
    "version": 3
   },
   "file_extension": ".py",
   "mimetype": "text/x-python",
   "name": "python",
   "nbconvert_exporter": "python",
   "pygments_lexer": "ipython3",
   "version": "3.12.0"
  }
 },
 "nbformat": 4,
 "nbformat_minor": 2
}
